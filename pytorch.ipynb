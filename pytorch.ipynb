{
 "cells": [
  {
   "cell_type": "code",
   "execution_count": 1,
   "metadata": {},
   "outputs": [],
   "source": [
    "import torch\n",
    "from torch import nn , optim\n",
    "import torch.nn.functional as F\n",
    "import numpy as np\n",
    "from matplotlib import pyplot as plt\n",
    "import h5py\n",
    "from torch.utils.data import DataLoader, TensorDataset\n",
    "import cv2\n",
    "%matplotlib inline"
   ]
  },
  {
   "cell_type": "code",
   "execution_count": 2,
   "metadata": {},
   "outputs": [],
   "source": [
    "device = torch.device('cuda:0' if torch.cuda.is_available() else 'cpu')"
   ]
  },
  {
   "cell_type": "code",
   "execution_count": 3,
   "metadata": {},
   "outputs": [],
   "source": [
    "# Train Data\n",
    "with h5py.File('train_signs.h5', \"r\") as train_dataset:\n",
    "    train_X = np.array(train_dataset[\"train_set_x\"])\n",
    "    train_X = train_X.reshape(train_X.shape[0] , -1)\n",
    "    train_X = train_X/255\n",
    "    \n",
    "    train_Y = np.array(train_dataset[\"train_set_y\"])\n",
    "    train_Y = train_Y.reshape(train_Y.shape[0] , 1)\n",
    "\n",
    "# Test Data\n",
    "with h5py.File('test_signs.h5', \"r\") as test_dataset:\n",
    "    test_X = np.array(test_dataset[\"test_set_x\"])\n",
    "    test_X = test_X.reshape(test_X.shape[0] , -1)\n",
    "    test_X = test_X/255\n",
    "    \n",
    "    test_Y = np.array(test_dataset[\"test_set_y\"])\n",
    "    test_Y = test_Y.reshape(test_Y.shape[0] , 1)\n",
    "    \n",
    "    classes = np.array(test_dataset[\"list_classes\"])\n",
    "    \n",
    "train_X = torch.tensor(train_X , dtype = torch.float)\n",
    "train_Y = torch.tensor(train_Y , dtype = torch.long)\n",
    "train_data = TensorDataset(train_X , train_Y)\n",
    "train_loader = DataLoader(train_data , batch_size = 128 , shuffle = True)\n",
    "\n",
    "test_X = torch.tensor(test_X , dtype = torch.float)\n",
    "test_Y = torch.tensor(test_Y , dtype = torch.long)\n",
    "test_data = TensorDataset(test_X , test_Y)\n",
    "test_loader = DataLoader(test_data , batch_size = 64 , shuffle = True)"
   ]
  },
  {
   "cell_type": "code",
   "execution_count": 4,
   "metadata": {},
   "outputs": [],
   "source": [
    "class Classifier(nn.Module):\n",
    "    def __init__(self):\n",
    "        super().__init__()\n",
    "        \n",
    "        self.l1 = nn.Linear(12288 , 25)\n",
    "        self.l2 = nn.Linear(25 , 12)\n",
    "        self.l3 = nn.Linear(12 , 6)\n",
    "    \n",
    "    def forward(self , x):\n",
    "        x = x.view(x.shape[0] , -1)\n",
    "        \n",
    "        x = F.relu(self.l1(x))\n",
    "        x = F.relu(self.l2(x))\n",
    "        x = F.softmax(self.l3(x) , dim = 1)\n",
    "        \n",
    "        return x"
   ]
  },
  {
   "cell_type": "code",
   "execution_count": 10,
   "metadata": {},
   "outputs": [
    {
     "data": {
      "text/plain": [
       "Classifier(\n",
       "  (l1): Linear(in_features=12288, out_features=25, bias=True)\n",
       "  (l2): Linear(in_features=25, out_features=12, bias=True)\n",
       "  (l3): Linear(in_features=12, out_features=6, bias=True)\n",
       ")"
      ]
     },
     "execution_count": 10,
     "metadata": {},
     "output_type": "execute_result"
    }
   ],
   "source": [
    "model = Classifier()\n",
    "loss_fn = nn.CrossEntropyLoss()\n",
    "optimizer = optim.Adam(model.parameters() , lr = 0.0001)\n",
    "model.to(device)"
   ]
  },
  {
   "cell_type": "code",
   "execution_count": 11,
   "metadata": {},
   "outputs": [],
   "source": [
    "def get_accuracy(model, loader):\n",
    "    #model.eval()\n",
    "    num_samples = 0\n",
    "    num_correct = 0\n",
    "    with torch.no_grad():\n",
    "        for i, (x, y) in enumerate(loader):\n",
    "            x, y = x.to(device), y.to(device)\n",
    "            y_pred = model(x)\n",
    "            _, preds = y_pred.data.max(1)\n",
    "            num_samples += preds.size(0)\n",
    "            num_correct += (y.view(-1) == preds).sum()\n",
    "        \n",
    "    return num_correct.item() / num_samples\n",
    "\n",
    "def train(model, test_loader, train_loader, epochs = 100, print_itr = 10):\n",
    "    #model.train()\n",
    "    #costs = []\n",
    "    for e in range(1, epochs+1):\n",
    "        if e % print_itr == 0:\n",
    "            print('Epoch', e, '| Test Accuracy:', get_accuracy(model, test_loader), '| Train Accuracy:', get_accuracy(model, train_loader))\n",
    "        for i, (x, y) in enumerate(train_loader):\n",
    "            x, y = x.to(device), y.to(device)\n",
    "            y_pred = model(x)\n",
    "            loss = loss_fn(y_pred, y.view(-1))\n",
    "            #costs.append(loss.data[0])\n",
    "            optimizer.zero_grad()\n",
    "            loss.backward()\n",
    "            optimizer.step()"
   ]
  },
  {
   "cell_type": "code",
   "execution_count": 12,
   "metadata": {},
   "outputs": [
    {
     "name": "stdout",
     "output_type": "stream",
     "text": [
      "Epoch 100 | Test Accuracy: 0.4583333333333333 | Train Accuracy: 0.43703703703703706\n",
      "Epoch 200 | Test Accuracy: 0.6916666666666667 | Train Accuracy: 0.674074074074074\n",
      "Epoch 300 | Test Accuracy: 0.7583333333333333 | Train Accuracy: 0.7564814814814815\n",
      "Epoch 400 | Test Accuracy: 0.8 | Train Accuracy: 0.8\n",
      "Epoch 500 | Test Accuracy: 0.8083333333333333 | Train Accuracy: 0.8194444444444444\n",
      "Epoch 600 | Test Accuracy: 0.825 | Train Accuracy: 0.8388888888888889\n",
      "Epoch 700 | Test Accuracy: 0.8 | Train Accuracy: 0.8537037037037037\n",
      "Epoch 800 | Test Accuracy: 0.7833333333333333 | Train Accuracy: 0.8675925925925926\n",
      "Epoch 900 | Test Accuracy: 0.8166666666666667 | Train Accuracy: 0.8796296296296297\n",
      "Epoch 1000 | Test Accuracy: 0.8166666666666667 | Train Accuracy: 0.8925925925925926\n",
      "Epoch 1100 | Test Accuracy: 0.8 | Train Accuracy: 0.8953703703703704\n",
      "Epoch 1200 | Test Accuracy: 0.8083333333333333 | Train Accuracy: 0.9027777777777778\n",
      "Epoch 1300 | Test Accuracy: 0.8 | Train Accuracy: 0.9083333333333333\n",
      "Epoch 1400 | Test Accuracy: 0.8333333333333334 | Train Accuracy: 0.9138888888888889\n",
      "Epoch 1500 | Test Accuracy: 0.8166666666666667 | Train Accuracy: 0.9175925925925926\n"
     ]
    }
   ],
   "source": [
    "train(model, test_loader, train_loader, epochs=1500 , print_itr = 100) # 96% and 81% accuracy!!"
   ]
  },
  {
   "cell_type": "code",
   "execution_count": 13,
   "metadata": {},
   "outputs": [],
   "source": [
    "def guss_my_image(im_path , input_size = 64):\n",
    "    im = cv2.imread(im_path)\n",
    "    im = cv2.resize(im , (input_size , input_size))\n",
    "    plt.imshow(im)\n",
    "    im = cv2.cvtColor(im , cv2.COLOR_BGR2RGB)\n",
    "    im = im.reshape(-1)\n",
    "    im = im[np.newaxis , ...]/255                                      #Add a channel at 0, thus making it a batch\n",
    "    im = torch.tensor(im , dtype = torch.float , device = device)\n",
    "    yhat = model(im)\n",
    "    _ , number = yhat.data.max(1)\n",
    "    print(number.data[0])"
   ]
  },
  {
   "cell_type": "code",
   "execution_count": 14,
   "metadata": {},
   "outputs": [
    {
     "name": "stdout",
     "output_type": "stream",
     "text": [
      "tensor(1, device='cuda:0')\n"
     ]
    },
    {
     "data": {
      "image/png": "[encoded data removed]",
      "text/plain": [
       "<Figure size 432x288 with 1 Axes>"
      ]
     },
     "metadata": {
      "needs_background": "light"
     },
     "output_type": "display_data"
    }
   ],
   "source": [
    "guss_my_image(\"5.jpg\")"
   ]
  },
  {
   "cell_type": "code",
   "execution_count": null,
   "metadata": {},
   "outputs": [],
   "source": []
  }
 ],
 "metadata": {
  "kernelspec": {
   "display_name": "Python 3",
   "language": "python",
   "name": "python3"
  },
  "language_info": {
   "codemirror_mode": {
    "name": "ipython",
    "version": 3
   },
   "file_extension": ".py",
   "mimetype": "text/x-python",
   "name": "python",
   "nbconvert_exporter": "python",
   "pygments_lexer": "ipython3",
   "version": "3.7.7"
  }
 },
 "nbformat": 4,
 "nbformat_minor": 4
}
